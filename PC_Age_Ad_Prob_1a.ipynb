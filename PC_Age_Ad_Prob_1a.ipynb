{
 "cells": [
  {
   "cell_type": "code",
   "execution_count": 2,
   "metadata": {},
   "outputs": [],
   "source": [
    "import numpy as np\n",
    "from matplotlib.pyplot import plot, cm, show\n",
    "import matplotlib.pyplot as plt\n",
    "\n",
    "%matplotlib inline"
   ]
  },
  {
   "cell_type": "code",
   "execution_count": null,
   "metadata": {},
   "outputs": [],
   "source": []
  },
  {
   "cell_type": "markdown",
   "metadata": {},
   "source": [
    "# PC AGE Career Institute Path Train Ad Problem:\n",
    "\n",
    "## (Seen on the NJ Transit Path Train)\n",
    "\n",
    "### \"Your Either Have IT of You Dont\"\n",
    "\n",
    "### \"What comes next?\""
   ]
  },
  {
   "cell_type": "markdown",
   "metadata": {},
   "source": [
    "# IT Subway Ad: Calculations:"
   ]
  },
  {
   "cell_type": "code",
   "execution_count": 3,
   "metadata": {},
   "outputs": [
    {
     "name": "stdout",
     "output_type": "stream",
     "text": [
      "\n",
      " Given Array\n",
      "[  3   4   6   9  13  18  24  31  39  48  58  69  81  94 108]\n",
      "\n",
      " Array of Step Differences\n",
      "[ 1  2  3  4  5  6  7  8  9 10 11 12 13 14]\n"
     ]
    }
   ],
   "source": [
    "A = np.array([3,4,6,9,13,18,24,31,39,48,58,69,81,94,108])\n",
    "\n",
    "A_diff = np.array([1,2,3,4,5,6,7,8,9,10,11,12,13,14])\n",
    "\n",
    "print('\\n Given Array')\n",
    "print(A)\n",
    "\n",
    "print('\\n Array of Step Differences')\n",
    "print(A_diff)"
   ]
  },
  {
   "cell_type": "markdown",
   "metadata": {},
   "source": [
    "# $ \\text{Recursive Function:} \\quad a_{(n)}$"
   ]
  },
  {
   "cell_type": "markdown",
   "metadata": {},
   "source": [
    "$ \\Huge A_0 = 3 $\n",
    "\n",
    "$ \\Huge A_n = A_{n-1} + n , \\qquad m,n \\in \\mathbb{N}, \\quad n \\in \\text{{1, 2, 3, ....., m}}$"
   ]
  },
  {
   "cell_type": "code",
   "execution_count": 4,
   "metadata": {},
   "outputs": [],
   "source": [
    "def a_n(n):\n",
    "    \n",
    "    if n == 0:\n",
    "        return 3\n",
    "    else:\n",
    "        return a_n(n-1) + n"
   ]
  },
  {
   "cell_type": "markdown",
   "metadata": {},
   "source": [
    "# $ \\text{Application of Recursive Function:} \\quad a_{(n)}$"
   ]
  },
  {
   "cell_type": "code",
   "execution_count": 6,
   "metadata": {},
   "outputs": [
    {
     "name": "stdout",
     "output_type": "stream",
     "text": [
      "\n",
      " n array\n",
      "[ 0  1  2  3  4  5  6  7  8  9 10 11 12 13 14 15]\n",
      "\n",
      " a_n array\n",
      "[  3.   4.   6.   9.  13.  18.  24.  31.  39.  48.  58.  69.  81.  94.\n",
      " 108. 123.]\n"
     ]
    }
   ],
   "source": [
    "lo = 0\n",
    "hi = 15\n",
    "n = np.arange(lo,hi + 1)\n",
    "\n",
    "len_n = len(n)\n",
    "\n",
    "a_n_array = np.empty(0)\n",
    "\n",
    "for i in range(len_n):\n",
    "#     print(a_n(i))\n",
    "    a_n_array = np.append(a_n_array, a_n(i))\n",
    "\n",
    "print('\\n n array')\n",
    "print(n)\n",
    "\n",
    "print('\\n a_n array')\n",
    "print(a_n_array)"
   ]
  },
  {
   "cell_type": "markdown",
   "metadata": {},
   "source": [
    "# $ \\text{Non-Recursive Function:} \\quad a_{(k)}$\n",
    "\n",
    "# $ \\text{Uses Sums}$"
   ]
  },
  {
   "cell_type": "markdown",
   "metadata": {},
   "source": [
    "$ \\Huge A_0 = 3 $\n",
    "\n",
    "$ \\Huge A_k = A_0 + \\sum\\limits_{i=1}^k i , \\qquad k,n \\in \\mathbb{N}, \\quad k \\in \\text{{1, 2, 3, ....., n}}$"
   ]
  },
  {
   "cell_type": "code",
   "execution_count": 7,
   "metadata": {},
   "outputs": [],
   "source": [
    "def a_k(k):\n",
    "    \n",
    "    a_0 = 3\n",
    "    \n",
    "    k_list = []\n",
    "    \n",
    "    for i in range(1,k+1):\n",
    "        k_list.append(i)\n",
    "    \n",
    "    if k == 0:\n",
    "        return 3\n",
    "    \n",
    "    else:\n",
    "        return a_0 + sum(k_list)"
   ]
  },
  {
   "cell_type": "markdown",
   "metadata": {},
   "source": [
    "# $ \\text{Application of Non-Recursive Function:} \\quad a_{(k)}$"
   ]
  },
  {
   "cell_type": "code",
   "execution_count": 9,
   "metadata": {},
   "outputs": [
    {
     "name": "stdout",
     "output_type": "stream",
     "text": [
      "3\n",
      "4\n",
      "6\n",
      "9\n",
      "13\n",
      "18\n",
      "24\n",
      "31\n",
      "39\n",
      "48\n",
      "58\n",
      "69\n",
      "81\n",
      "94\n",
      "108\n",
      "123\n"
     ]
    }
   ],
   "source": [
    "a_0 = 3\n",
    "\n",
    "lo = 0\n",
    "hi = 15\n",
    "n = np.arange(lo,hi + 1)\n",
    "\n",
    "len_n = len(n)\n",
    "\n",
    "# print(n)\n",
    "\n",
    "for i in range(len_n):\n",
    "    print(a_k(i))"
   ]
  },
  {
   "cell_type": "markdown",
   "metadata": {},
   "source": [
    "# Application of Both Functions:"
   ]
  },
  {
   "cell_type": "code",
   "execution_count": 11,
   "metadata": {},
   "outputs": [
    {
     "name": "stdout",
     "output_type": "stream",
     "text": [
      "\n",
      " a_n array\n",
      "[  3.   4.   6.   9.  13.  18.  24.  31.  39.  48.  58.  69.  81.  94.\n",
      " 108. 123.]\n",
      "\n",
      " a_k array\n",
      "[  3.   4.   6.   9.  13.  18.  24.  31.  39.  48.  58.  69.  81.  94.\n",
      " 108. 123.]\n",
      "\n",
      " a_n array == a_k array\n",
      "True\n"
     ]
    }
   ],
   "source": [
    "a_0 = 3\n",
    "\n",
    "lo = 0\n",
    "hi = 15\n",
    "n = np.arange(lo,hi + 1)\n",
    "\n",
    "len_n = len(n)\n",
    "\n",
    "a_n_1 = np.empty(0)\n",
    "a_n_2 = np.empty(0)\n",
    "\n",
    "for i in range(len_n):\n",
    "    a_n_1 = np.append(a_n_1, a_n(i))\n",
    "    a_n_2 = np.append(a_n_2, a_k(i))\n",
    "\n",
    "print('\\n a_n array')\n",
    "print(a_n_1)\n",
    "\n",
    "print('\\n a_k array')\n",
    "print(a_n_2)\n",
    "\n",
    "print('\\n a_n array == a_k array')\n",
    "print(np.allclose(a_n_1, a_n_2))"
   ]
  },
  {
   "cell_type": "markdown",
   "metadata": {},
   "source": [
    "# Differences in Steps:"
   ]
  },
  {
   "cell_type": "code",
   "execution_count": 12,
   "metadata": {},
   "outputs": [
    {
     "name": "stdout",
     "output_type": "stream",
     "text": [
      "Difference between  3.0  and  4.0  is  1\n",
      "Difference between  4.0  and  6.0  is  2\n",
      "Difference between  6.0  and  9.0  is  3\n",
      "Difference between  9.0  and  13.0  is  4\n",
      "Difference between  13.0  and  18.0  is  5\n",
      "Difference between  18.0  and  24.0  is  6\n",
      "Difference between  24.0  and  31.0  is  7\n",
      "Difference between  31.0  and  39.0  is  8\n",
      "Difference between  39.0  and  48.0  is  9\n",
      "Difference between  48.0  and  58.0  is  10\n",
      "Difference between  58.0  and  69.0  is  11\n",
      "Difference between  69.0  and  81.0  is  12\n",
      "Difference between  81.0  and  94.0  is  13\n",
      "Difference between  94.0  and  108.0  is  14\n",
      "Difference between  108.0  and  123.0  is  15\n"
     ]
    }
   ],
   "source": [
    "for i in range(len_n-1):\n",
    "    print('Difference between ', a_n_1[i], ' and ' , a_n_1[i+1], ' is ', n[i+1])"
   ]
  },
  {
   "cell_type": "markdown",
   "metadata": {},
   "source": [
    "# Condensed:"
   ]
  },
  {
   "cell_type": "code",
   "execution_count": 13,
   "metadata": {
    "scrolled": false
   },
   "outputs": [
    {
     "name": "stdout",
     "output_type": "stream",
     "text": [
      "\n",
      " a_n array\n",
      "[  3.   4.   6.   9.  13.  18.  24.  31.  39.  48.  58.  69.  81.  94.\n",
      " 108. 123.]\n",
      "\n",
      " a_k array\n",
      "[  3.   4.   6.   9.  13.  18.  24.  31.  39.  48.  58.  69.  81.  94.\n",
      " 108. 123.]\n",
      "\n",
      " Differences in Steps:\n",
      "Difference between  3.0  and  4.0  is  1\n",
      "Difference between  4.0  and  6.0  is  2\n",
      "Difference between  6.0  and  9.0  is  3\n",
      "Difference between  9.0  and  13.0  is  4\n",
      "Difference between  13.0  and  18.0  is  5\n",
      "Difference between  18.0  and  24.0  is  6\n",
      "Difference between  24.0  and  31.0  is  7\n",
      "Difference between  31.0  and  39.0  is  8\n",
      "Difference between  39.0  and  48.0  is  9\n",
      "Difference between  48.0  and  58.0  is  10\n",
      "Difference between  58.0  and  69.0  is  11\n",
      "Difference between  69.0  and  81.0  is  12\n",
      "Difference between  81.0  and  94.0  is  13\n",
      "Difference between  94.0  and  108.0  is  14\n",
      "Difference between  108.0  and  123.0  is  15\n"
     ]
    }
   ],
   "source": [
    "a_0 = 3\n",
    "\n",
    "lo = 0\n",
    "\n",
    "# Change this value:\n",
    "hi = 15\n",
    "\n",
    "n = np.arange(lo,hi + 1)\n",
    "\n",
    "len_n = len(n)\n",
    "\n",
    "a_n_1 = np.empty(0)\n",
    "a_n_2 = np.empty(0)\n",
    "\n",
    "for i in range(len_n):\n",
    "    a_n_1 = np.append(a_n_1, a_n(i))\n",
    "    a_n_2 = np.append(a_n_2, a_k(i))\n",
    "\n",
    "print('\\n a_n array')\n",
    "print(a_n_1)\n",
    "\n",
    "print('\\n a_k array')\n",
    "print(a_n_2)\n",
    "\n",
    "print('\\n Differences in Steps:')\n",
    "\n",
    "for i in range(len_n-1):\n",
    "#     print('\\t')\n",
    "    print('Difference between ', a_n_1[i], ' and ' , a_n_1[i+1], ' is ', n[i+1])"
   ]
  },
  {
   "cell_type": "markdown",
   "metadata": {},
   "source": [
    "# Combination:"
   ]
  },
  {
   "cell_type": "markdown",
   "metadata": {},
   "source": [
    "$ \\huge  A_0 = 3 $\n",
    "\n",
    "$ \\huge \\newline$\n",
    "\n",
    "$ \\huge \\text{Recursive Function:} \\quad a_{(n)}$\n",
    "\n",
    "$ \\huge A_n = A_{n-1} + n , \\qquad m,n \\in \\mathbb{N}, \\quad n \\in \\text{{1, 2, 3, ....., m}}$\n",
    "\n",
    "$ \\huge \\newline$\n",
    "\n",
    "$ \\huge \\text{Let n = k}$\n",
    "\n",
    "$ \\huge \\newline$\n",
    "\n",
    "$ \\huge \\text{Recursive Function:} \\quad a_{(n)} \\quad \\rightarrow \\quad a_{(k)}$\n",
    "\n",
    "$ \\huge \\newline$\n",
    "\n",
    "$ \\huge A_k = A_{k-1} + k , \\qquad k,m \\in \\mathbb{N}, \\quad k \\in \\text{{1, 2, 3, ....., m}}$\n",
    "\n",
    "$ \\huge \\newline$\n",
    "\n",
    "$ \\huge \\text{Non-Recursive Function:} \\quad a_{(k)}$\n",
    "\n",
    "$ \\huge A_k = A_0 + \\sum\\limits_{i=1}^k i , \\qquad k,m \\in \\mathbb{N}, \\quad k \\in \\text{{1, 2, 3, ....., m}}$"
   ]
  },
  {
   "cell_type": "markdown",
   "metadata": {},
   "source": [
    "$ \\huge \\text{Equate both } A_k \\text{ functions}$\n",
    "\n",
    "$ \\huge A_k = A_k$\n",
    "\n",
    "$ \\huge A_{k-1} + k = A_0 + \\sum\\limits_{i=1}^k i$\n",
    "\n",
    "$ \\huge A_{k-1} = A_0 + \\sum\\limits_{i=1}^k i \\quad - k$\n",
    "\n",
    "$ \\huge \\newline$\n",
    "\n",
    "$ \\large \\text{Iterate up one step } k-1 \\rightarrow k$\n",
    "\n",
    "$ \\huge A_{k-1+1} = A_k = A_0 + \\sum\\limits_{i=1}^{k+1} i \\quad - (k + 1)$\n",
    "\n",
    "$ \\huge A_k = A_0 + \\sum\\limits_{i=1}^{k+1} i \\quad - (k + 1)$\n",
    "\n",
    "$ \\huge \\newline$\n",
    "\n",
    "$ \\large \\text{Iterate up one step } k \\rightarrow k+1$\n",
    "\n",
    "$ \\huge A_{k+1} = A_0 + \\sum\\limits_{i=1}^{k+2} i \\quad - (k + 2)$\n",
    "\n",
    "$ \\huge \\newline$\n",
    "\n",
    "$ \\large \\text{Iterate up n steps } k \\rightarrow k+n$\n",
    "\n",
    "$ \\huge A_{k+n} = A_0 + \\sum\\limits_{i=1}^{k + n + 1} i \\quad - (k + n + 1)$"
   ]
  },
  {
   "cell_type": "markdown",
   "metadata": {},
   "source": [
    "$ \\huge \\text{Three new } A_k \\text{ functions:}$\n",
    "\n",
    "$ \\huge \\newline$\n",
    "\n",
    "$\\huge k,n \\in \\mathbb{N}, \\quad k \\in \\text{{1, 2, 3, ....., n}}$\n",
    "\n",
    "$ \\huge \\newline$\n",
    "\n",
    "$ \\huge A_k = A_0 + \\sum\\limits_{i=1}^{k+1} i \\quad - (k + 1)$\n",
    "\n",
    "$ \\huge \\newline$\n",
    "\n",
    "$ \\huge A_{k+1} = A_0 + \\sum\\limits_{i=1}^{k+2} i \\quad - (k + 2)$\n",
    "\n",
    "$ \\huge \\newline$\n",
    "\n",
    "$ \\huge A_{k+n} = A_0 + \\sum\\limits_{i=1}^{k + n + 1} i \\quad - (k + n + 1)$"
   ]
  },
  {
   "cell_type": "markdown",
   "metadata": {},
   "source": [
    "# $ \\text{Non-Recursive Functions 2 and 3:} \\quad a_{(k)} \\text{and} \\quad a_{(k+n)}$\n",
    "\n",
    "## $ \\text{Both Use Sums}$"
   ]
  },
  {
   "cell_type": "markdown",
   "metadata": {},
   "source": [
    "$\\huge k,n \\in \\mathbb{N}, \\quad k \\in \\text{{1, 2, 3, ....., n}}$\n",
    "\n",
    "$ \\huge \\newline$\n",
    "\n",
    "$ \\huge A_k = A_0 + \\sum\\limits_{i=1}^{k+1} i \\quad - (k + 1)$"
   ]
  },
  {
   "cell_type": "code",
   "execution_count": 20,
   "metadata": {},
   "outputs": [],
   "source": [
    "def a_k1(k):\n",
    "    \n",
    "    a_0 = 3\n",
    "    \n",
    "    k_list = []\n",
    "    \n",
    "#     k + 1 and then\n",
    "#     k + 1 + 1 for the proper list length\n",
    "#     thus k + 2\n",
    "\n",
    "    k_plus_one = k + 2\n",
    "\n",
    "    for i in range(1,k_plus_one):\n",
    "        k_list.append(i)\n",
    "    \n",
    "    if k == 0:\n",
    "        return 3\n",
    "    \n",
    "    elif (k or n) < 0:\n",
    "        return 'error'\n",
    "    \n",
    "    else:\n",
    "        return a_0 + sum(k_list) - ( k + 1 )"
   ]
  },
  {
   "cell_type": "markdown",
   "metadata": {},
   "source": [
    "$\\huge k,n \\in \\mathbb{N}, \\quad k \\in \\text{{1, 2, 3, ....., n}}$\n",
    "\n",
    "$ \\huge \\newline$\n",
    "\n",
    "$ \\huge A_{k+n} = A_0 + \\sum\\limits_{i=1}^{k + n + 1} i \\quad - (k + n + 1)$"
   ]
  },
  {
   "cell_type": "code",
   "execution_count": 21,
   "metadata": {
    "scrolled": true
   },
   "outputs": [],
   "source": [
    "def a_plus_n(k,n):\n",
    "    \n",
    "    a_0 = 3\n",
    "    \n",
    "    k_list = []\n",
    "\n",
    "#     k + n + 1 and then\n",
    "#     k + n + 1 + 1 for the proper list length\n",
    "#     thus k + n + 2\n",
    "\n",
    "    k_n_pls_two = k + n + 2\n",
    "\n",
    "    for i in range(1,k_n_pls_two):\n",
    "        k_list.append(i)\n",
    "    \n",
    "    ##########################################\n",
    "    \n",
    "    # Case of k = 0 and n > 0:\n",
    "    m_list = []\n",
    "    \n",
    "    m = n\n",
    "\n",
    "#     if (k == 0 and n > 0):\n",
    "#         m = n\n",
    "    \n",
    "#     m + 1 and then\n",
    "#     m + 1 + 1 for the proper list length\n",
    "#     thus m + 2\n",
    "    m_plus_one = m + 2\n",
    "\n",
    "    for i in range(1,m_plus_one):\n",
    "        m_list.append(i)\n",
    "\n",
    "    m_sum = a_0 + sum(m_list) - ( m + 1 )\n",
    "        \n",
    "    ##########################################\n",
    "\n",
    "    if ( (k == 0) and (n > 0) ):\n",
    "        return m_sum\n",
    "    \n",
    "    elif k == 0:\n",
    "        return 3\n",
    "\n",
    "    elif (k < 0) or (n < 0):\n",
    "        return 'error'\n",
    "    \n",
    "    else:\n",
    "        return a_0 + sum(k_list) - ( k + n + 1 )"
   ]
  },
  {
   "cell_type": "markdown",
   "metadata": {},
   "source": [
    "# $ \\text{Testing the New Non-Recursive Functions 2 and 3:} \\quad a_{(k)} \\text{and} \\quad a_{(k+n)}$"
   ]
  },
  {
   "cell_type": "code",
   "execution_count": 93,
   "metadata": {},
   "outputs": [
    {
     "name": "stdout",
     "output_type": "stream",
     "text": [
      "A_ 0  =  3\n",
      "A_ 1  =  4\n",
      "A_ 2  =  6\n",
      "A_ 3  =  9\n",
      "A_ 4  =  13\n",
      "A_ 5  =  18\n",
      "A_ 6  =  24\n",
      "A_ 7  =  31\n",
      "A_ 8  =  39\n",
      "A_ 9  =  48\n",
      "A_ 10  =  58\n",
      "A_ 11  =  69\n",
      "A_ 12  =  81\n",
      "A_ 13  =  94\n",
      "A_ 14  =  108\n",
      "A_ 15  =  123\n"
     ]
    }
   ],
   "source": [
    "k = 15+1\n",
    "\n",
    "for i in range(k):\n",
    "    print('A_',i,' = ',a_k1(i))"
   ]
  },
  {
   "cell_type": "code",
   "execution_count": 105,
   "metadata": {},
   "outputs": [
    {
     "name": "stdout",
     "output_type": "stream",
     "text": [
      "\n",
      " No Negative Values:\n",
      "A_ 1 + 2     =  A_ 3 _ =     9\n",
      "A_ 8 + 13     =  A_ 21 _ =     234\n",
      "A_ 8 + 15     =  A_ 23 _ =     279\n",
      "A_ 13 + 3     =  A_ 16 _ =     139\n",
      "A_ 10 + 13     =  A_ 23 _ =     279\n",
      "A_ 14 + 5     =  A_ 19 _ =     193\n",
      "A_ 8 + 15     =  A_ 23 _ =     279\n",
      "A_ 11 + 12     =  A_ 23 _ =     279\n",
      "A_ 10 + 12     =  A_ 22 _ =     256\n",
      "A_ 0 + 11     =  A_ 11 _ =     69\n",
      "\n",
      " With Possible Negative Values:\n",
      "A_ 12 + 7     =  A_ 19 _ =     193\n",
      "A_ 12 + 10     =  A_ 22 _ =     256\n",
      "A_ -3 + 8     =  A_ 5 _ =     error\n",
      "A_ -3 + 14     =  A_ 11 _ =     error\n",
      "A_ 14 + 4     =  A_ 18 _ =     174\n",
      "A_ 8 + 13     =  A_ 21 _ =     234\n",
      "A_ -5 + 1     =  A_ -4 _ =     error\n",
      "A_ 0 + 5     =  A_ 5 _ =     18\n",
      "A_ 4 + 4     =  A_ 8 _ =     39\n",
      "A_ 14 + 7     =  A_ 21 _ =     234\n"
     ]
    }
   ],
   "source": [
    "sz = 2\n",
    "\n",
    "steps = 10\n",
    "\n",
    "max_val = 15 + 1\n",
    "\n",
    "print('\\n No Negative Values:')\n",
    "\n",
    "# No Negative Values:\n",
    "for i in range(steps):\n",
    "    rand_arr = np.random.randint(max_val, size = sz)\n",
    "    \n",
    "    k = rand_arr[0]\n",
    "    n = rand_arr[1]\n",
    "    \n",
    "    print('A_',k ,'+',n ,'    = ','A_', k + n,'_ =    ', a_plus_n(k,n))\n",
    "\n",
    "print('\\n With Possible Negative Values:')\n",
    "\n",
    "# With Possible Negative Values:\n",
    "for i in range(steps):\n",
    "    rand_arr = np.random.randint(max_val, size = sz)\n",
    "    \n",
    "    neg_val = (-1)**(rand_arr[0])\n",
    "\n",
    "    k = rand_arr[0] * neg_val\n",
    "    n = rand_arr[1]\n",
    "\n",
    "    print('A_',k ,'+',n ,'    = ','A_', k + n,'_ =    ', a_plus_n(k,n))"
   ]
  },
  {
   "cell_type": "code",
   "execution_count": null,
   "metadata": {},
   "outputs": [],
   "source": []
  },
  {
   "cell_type": "code",
   "execution_count": null,
   "metadata": {},
   "outputs": [],
   "source": []
  }
 ],
 "metadata": {
  "kernelspec": {
   "display_name": "Python 3",
   "language": "python",
   "name": "python3"
  },
  "language_info": {
   "codemirror_mode": {
    "name": "ipython",
    "version": 3
   },
   "file_extension": ".py",
   "mimetype": "text/x-python",
   "name": "python",
   "nbconvert_exporter": "python",
   "pygments_lexer": "ipython3",
   "version": "3.8.5"
  }
 },
 "nbformat": 4,
 "nbformat_minor": 2
}
